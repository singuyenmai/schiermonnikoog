{
 "cells": [
  {
   "cell_type": "code",
   "execution_count": 1,
   "metadata": {
    "collapsed": true
   },
   "outputs": [
    {
     "name": "stderr",
     "output_type": "stream",
     "text": [
      "Loading required package: Matrix\n",
      "\n",
      "Attaching package: ‘lmerTest’\n",
      "\n",
      "The following object is masked from ‘package:lme4’:\n",
      "\n",
      "    lmer\n",
      "\n",
      "The following object is masked from ‘package:stats’:\n",
      "\n",
      "    step\n",
      "\n"
     ]
    }
   ],
   "source": [
    "library(lme4)\n",
    "library(lmerTest)"
   ]
  },
  {
   "cell_type": "code",
   "execution_count": 2,
   "metadata": {},
   "outputs": [
    {
     "data": {
      "text/html": [
       "<table>\n",
       "<thead><tr><th scope=col>Treatment</th><th scope=col>Replicate</th><th scope=col>Measurement</th><th scope=col>Hare</th><th scope=col>Rabbit</th><th scope=col>Plantspecies</th><th scope=col>Who</th><th scope=col>Day</th></tr></thead>\n",
       "<tbody>\n",
       "\t<tr><td>Dune        </td><td>1           </td><td>1           </td><td>2           </td><td>3           </td><td>6           </td><td>Julia/Sharmi</td><td>1           </td></tr>\n",
       "\t<tr><td>Dune        </td><td>1           </td><td>2           </td><td>0           </td><td>0           </td><td>5           </td><td>Julia/Sharmi</td><td>1           </td></tr>\n",
       "\t<tr><td>Dune        </td><td>1           </td><td>3           </td><td>6           </td><td>2           </td><td>7           </td><td>Julia/Sharmi</td><td>1           </td></tr>\n",
       "\t<tr><td>Dune        </td><td>1           </td><td>4           </td><td>0           </td><td>0           </td><td>5           </td><td>Nguyen      </td><td>1           </td></tr>\n",
       "\t<tr><td>Dune        </td><td>1           </td><td>5           </td><td>3           </td><td>2           </td><td>5           </td><td>Nguyen      </td><td>1           </td></tr>\n",
       "\t<tr><td>Dune        </td><td>2           </td><td>1           </td><td>0           </td><td>0           </td><td>7           </td><td>Julia/Sharmi</td><td>1           </td></tr>\n",
       "</tbody>\n",
       "</table>\n"
      ],
      "text/latex": [
       "\\begin{tabular}{r|llllllll}\n",
       " Treatment & Replicate & Measurement & Hare & Rabbit & Plantspecies & Who & Day\\\\\n",
       "\\hline\n",
       "\t Dune         & 1            & 1            & 2            & 3            & 6            & Julia/Sharmi & 1           \\\\\n",
       "\t Dune         & 1            & 2            & 0            & 0            & 5            & Julia/Sharmi & 1           \\\\\n",
       "\t Dune         & 1            & 3            & 6            & 2            & 7            & Julia/Sharmi & 1           \\\\\n",
       "\t Dune         & 1            & 4            & 0            & 0            & 5            & Nguyen       & 1           \\\\\n",
       "\t Dune         & 1            & 5            & 3            & 2            & 5            & Nguyen       & 1           \\\\\n",
       "\t Dune         & 2            & 1            & 0            & 0            & 7            & Julia/Sharmi & 1           \\\\\n",
       "\\end{tabular}\n"
      ],
      "text/markdown": [
       "\n",
       "| Treatment | Replicate | Measurement | Hare | Rabbit | Plantspecies | Who | Day |\n",
       "|---|---|---|---|---|---|---|---|\n",
       "| Dune         | 1            | 1            | 2            | 3            | 6            | Julia/Sharmi | 1            |\n",
       "| Dune         | 1            | 2            | 0            | 0            | 5            | Julia/Sharmi | 1            |\n",
       "| Dune         | 1            | 3            | 6            | 2            | 7            | Julia/Sharmi | 1            |\n",
       "| Dune         | 1            | 4            | 0            | 0            | 5            | Nguyen       | 1            |\n",
       "| Dune         | 1            | 5            | 3            | 2            | 5            | Nguyen       | 1            |\n",
       "| Dune         | 2            | 1            | 0            | 0            | 7            | Julia/Sharmi | 1            |\n",
       "\n"
      ],
      "text/plain": [
       "  Treatment Replicate Measurement Hare Rabbit Plantspecies Who          Day\n",
       "1 Dune      1         1           2    3      6            Julia/Sharmi 1  \n",
       "2 Dune      1         2           0    0      5            Julia/Sharmi 1  \n",
       "3 Dune      1         3           6    2      7            Julia/Sharmi 1  \n",
       "4 Dune      1         4           0    0      5            Nguyen       1  \n",
       "5 Dune      1         5           3    2      5            Nguyen       1  \n",
       "6 Dune      2         1           0    0      7            Julia/Sharmi 1  "
      ]
     },
     "metadata": {},
     "output_type": "display_data"
    }
   ],
   "source": [
    "d <- read.csv(\"hares.csv\")\n",
    "head(d)"
   ]
  },
  {
   "cell_type": "code",
   "execution_count": 3,
   "metadata": {},
   "outputs": [
    {
     "name": "stdout",
     "output_type": "stream",
     "text": [
      "'data.frame':\t60 obs. of  8 variables:\n",
      " $ Treatment   : Factor w/ 3 levels \"AG\",\"D\",\"SM\": 2 2 2 2 2 2 2 2 2 2 ...\n",
      " $ Replicate   : Factor w/ 4 levels \"1\",\"2\",\"3\",\"4\": 1 1 1 1 1 2 2 2 2 2 ...\n",
      " $ Measurement : Factor w/ 5 levels \"1\",\"2\",\"3\",\"4\",..: 1 2 3 4 5 1 2 3 4 5 ...\n",
      " $ Hare        : int  2 0 6 0 3 0 2 0 0 0 ...\n",
      " $ Rabbit      : int  3 0 2 0 2 0 1 0 2 5 ...\n",
      " $ Plantspecies: int  6 5 7 5 5 7 5 3 4 5 ...\n",
      " $ Who         : Factor w/ 5 levels \"Julia\",\"Julia/Nguyen\",..: 3 3 3 4 4 3 3 4 4 4 ...\n",
      " $ Day         : Factor w/ 2 levels \"1\",\"2\": 1 1 1 1 1 1 1 1 1 1 ...\n"
     ]
    }
   ],
   "source": [
    "d$Treatment <- factor(d$Treatment, levels=c(\"Agric. grassland\", \"Dune\", \"Salt Marsh\"), labels=c(\"AG\", \"D\", \"SM\"))\n",
    "d$Measurement <- factor(d$Measurement)\n",
    "d$Replicate <- factor(d$Replicate)\n",
    "d$Day <- factor(d$Day)\n",
    "str(d)"
   ]
  },
  {
   "cell_type": "code",
   "execution_count": 4,
   "metadata": {},
   "outputs": [
    {
     "data": {
      "text/html": [
       "<table>\n",
       "<thead><tr><th scope=col>Treatment</th><th scope=col>Replicate</th><th scope=col>Measurement</th><th scope=col>Hare</th><th scope=col>Rabbit</th><th scope=col>Plantspecies</th><th scope=col>Who</th><th scope=col>Day</th></tr></thead>\n",
       "<tbody>\n",
       "\t<tr><td>D           </td><td>1           </td><td>1           </td><td>2           </td><td>3           </td><td>6           </td><td>Julia/Sharmi</td><td>1           </td></tr>\n",
       "\t<tr><td>D           </td><td>1           </td><td>2           </td><td>0           </td><td>0           </td><td>5           </td><td>Julia/Sharmi</td><td>1           </td></tr>\n",
       "\t<tr><td>D           </td><td>1           </td><td>3           </td><td>6           </td><td>2           </td><td>7           </td><td>Julia/Sharmi</td><td>1           </td></tr>\n",
       "\t<tr><td>D           </td><td>1           </td><td>4           </td><td>0           </td><td>0           </td><td>5           </td><td>Nguyen      </td><td>1           </td></tr>\n",
       "\t<tr><td>D           </td><td>1           </td><td>5           </td><td>3           </td><td>2           </td><td>5           </td><td>Nguyen      </td><td>1           </td></tr>\n",
       "\t<tr><td>D           </td><td>2           </td><td>1           </td><td>0           </td><td>0           </td><td>7           </td><td>Julia/Sharmi</td><td>1           </td></tr>\n",
       "</tbody>\n",
       "</table>\n"
      ],
      "text/latex": [
       "\\begin{tabular}{r|llllllll}\n",
       " Treatment & Replicate & Measurement & Hare & Rabbit & Plantspecies & Who & Day\\\\\n",
       "\\hline\n",
       "\t D            & 1            & 1            & 2            & 3            & 6            & Julia/Sharmi & 1           \\\\\n",
       "\t D            & 1            & 2            & 0            & 0            & 5            & Julia/Sharmi & 1           \\\\\n",
       "\t D            & 1            & 3            & 6            & 2            & 7            & Julia/Sharmi & 1           \\\\\n",
       "\t D            & 1            & 4            & 0            & 0            & 5            & Nguyen       & 1           \\\\\n",
       "\t D            & 1            & 5            & 3            & 2            & 5            & Nguyen       & 1           \\\\\n",
       "\t D            & 2            & 1            & 0            & 0            & 7            & Julia/Sharmi & 1           \\\\\n",
       "\\end{tabular}\n"
      ],
      "text/markdown": [
       "\n",
       "| Treatment | Replicate | Measurement | Hare | Rabbit | Plantspecies | Who | Day |\n",
       "|---|---|---|---|---|---|---|---|\n",
       "| D            | 1            | 1            | 2            | 3            | 6            | Julia/Sharmi | 1            |\n",
       "| D            | 1            | 2            | 0            | 0            | 5            | Julia/Sharmi | 1            |\n",
       "| D            | 1            | 3            | 6            | 2            | 7            | Julia/Sharmi | 1            |\n",
       "| D            | 1            | 4            | 0            | 0            | 5            | Nguyen       | 1            |\n",
       "| D            | 1            | 5            | 3            | 2            | 5            | Nguyen       | 1            |\n",
       "| D            | 2            | 1            | 0            | 0            | 7            | Julia/Sharmi | 1            |\n",
       "\n"
      ],
      "text/plain": [
       "  Treatment Replicate Measurement Hare Rabbit Plantspecies Who          Day\n",
       "1 D         1         1           2    3      6            Julia/Sharmi 1  \n",
       "2 D         1         2           0    0      5            Julia/Sharmi 1  \n",
       "3 D         1         3           6    2      7            Julia/Sharmi 1  \n",
       "4 D         1         4           0    0      5            Nguyen       1  \n",
       "5 D         1         5           3    2      5            Nguyen       1  \n",
       "6 D         2         1           0    0      7            Julia/Sharmi 1  "
      ]
     },
     "metadata": {},
     "output_type": "display_data"
    }
   ],
   "source": [
    "head(d)"
   ]
  },
  {
   "cell_type": "markdown",
   "metadata": {},
   "source": [
    "## Differences in hare abundance can be explained by habitat"
   ]
  },
  {
   "cell_type": "code",
   "execution_count": 5,
   "metadata": {},
   "outputs": [
    {
     "data": {
      "text/plain": [
       "Generalized linear mixed model fit by maximum likelihood (Laplace\n",
       "  Approximation) [glmerMod]\n",
       " Family: poisson  ( log )\n",
       "Formula: Hare ~ Treatment + (1 | Replicate)\n",
       "   Data: d\n",
       "\n",
       "     AIC      BIC   logLik deviance df.resid \n",
       "   247.5    255.9   -119.8    239.5       56 \n",
       "\n",
       "Scaled residuals: \n",
       "    Min      1Q  Median      3Q     Max \n",
       "-2.1745 -1.0240 -0.4038  0.5608  5.1214 \n",
       "\n",
       "Random effects:\n",
       " Groups    Name        Variance Std.Dev.\n",
       " Replicate (Intercept) 0.08147  0.2854  \n",
       "Number of obs: 60, groups:  Replicate, 4\n",
       "\n",
       "Fixed effects:\n",
       "            Estimate Std. Error z value Pr(>|z|)    \n",
       "(Intercept)  -1.6508     0.5188  -3.182  0.00146 ** \n",
       "TreatmentD    2.2246     0.5244   4.242 2.22e-05 ***\n",
       "TreatmentSM   3.3673     0.5067   6.645 3.03e-11 ***\n",
       "---\n",
       "Signif. codes:  0 ‘***’ 0.001 ‘**’ 0.01 ‘*’ 0.05 ‘.’ 0.1 ‘ ’ 1\n",
       "\n",
       "Correlation of Fixed Effects:\n",
       "            (Intr) TrtmnD\n",
       "TreatmentD  -0.912       \n",
       "TreatmentSM -0.944  0.934"
      ]
     },
     "metadata": {},
     "output_type": "display_data"
    }
   ],
   "source": [
    "m1a <- glmer(Hare ~ Treatment + (1|Replicate), family = poisson(), data = d)\n",
    "summary(m1a)"
   ]
  },
  {
   "cell_type": "code",
   "execution_count": 6,
   "metadata": {},
   "outputs": [
    {
     "data": {
      "text/plain": [
       "Generalized linear mixed model fit by maximum likelihood (Laplace\n",
       "  Approximation) [glmerMod]\n",
       " Family: poisson  ( log )\n",
       "Formula: Hare ~ Treatment_ordered + (1 | Replicate)\n",
       "   Data: d\n",
       "\n",
       "     AIC      BIC   logLik deviance df.resid \n",
       "   247.5    255.9   -119.8    239.5       56 \n",
       "\n",
       "Scaled residuals: \n",
       "    Min      1Q  Median      3Q     Max \n",
       "-2.1745 -1.0240 -0.4038  0.5608  5.1214 \n",
       "\n",
       "Random effects:\n",
       " Groups    Name        Variance Std.Dev.\n",
       " Replicate (Intercept) 0.08147  0.2854  \n",
       "Number of obs: 60, groups:  Replicate, 4\n",
       "\n",
       "Fixed effects:\n",
       "                    Estimate Std. Error z value Pr(>|z|)    \n",
       "(Intercept)           0.5739     0.2186   2.625  0.00867 ** \n",
       "Treatment_orderedSM   1.1427     0.1881   6.074 1.25e-09 ***\n",
       "Treatment_orderedAG  -2.2246     0.5244  -4.242 2.22e-05 ***\n",
       "---\n",
       "Signif. codes:  0 ‘***’ 0.001 ‘**’ 0.01 ‘*’ 0.05 ‘.’ 0.1 ‘ ’ 1\n",
       "\n",
       "Correlation of Fixed Effects:\n",
       "            (Intr) Trt_SM\n",
       "Trtmnt_rdSM -0.652       \n",
       "Trtmnt_rdAG -0.234  0.272"
      ]
     },
     "metadata": {},
     "output_type": "display_data"
    }
   ],
   "source": [
    "d$Treatment_ordered <- factor(d$Treatment, levels = c(\"D\", \"SM\", \"AG\"))\n",
    "\n",
    "m1b <- glmer(Hare ~ Treatment_ordered + (1|Replicate), family = poisson(), data = d)\n",
    "summary(m1b)"
   ]
  },
  {
   "cell_type": "markdown",
   "metadata": {},
   "source": [
    "## Differences in hare abundance can be explained by plant variety"
   ]
  },
  {
   "cell_type": "code",
   "execution_count": 7,
   "metadata": {},
   "outputs": [
    {
     "data": {
      "text/plain": [
       "Generalized linear mixed model fit by maximum likelihood (Laplace\n",
       "  Approximation) [glmerMod]\n",
       " Family: poisson  ( log )\n",
       "Formula: Hare ~ Plantspecies + (1 | Replicate)\n",
       "   Data: d\n",
       "\n",
       "     AIC      BIC   logLik deviance df.resid \n",
       "   312.3    318.6   -153.1    306.3       57 \n",
       "\n",
       "Scaled residuals: \n",
       "    Min      1Q  Median      3Q     Max \n",
       "-2.4220 -1.1733 -0.6891  0.7818  6.4150 \n",
       "\n",
       "Random effects:\n",
       " Groups    Name        Variance Std.Dev.\n",
       " Replicate (Intercept) 0.202    0.4494  \n",
       "Number of obs: 60, groups:  Replicate, 4\n",
       "\n",
       "Fixed effects:\n",
       "             Estimate Std. Error z value Pr(>|z|)    \n",
       "(Intercept)  -1.07900    0.36849  -2.928  0.00341 ** \n",
       "Plantspecies  0.36236    0.04544   7.974 1.53e-15 ***\n",
       "---\n",
       "Signif. codes:  0 ‘***’ 0.001 ‘**’ 0.01 ‘*’ 0.05 ‘.’ 0.1 ‘ ’ 1\n",
       "\n",
       "Correlation of Fixed Effects:\n",
       "            (Intr)\n",
       "Plantspecis -0.760"
      ]
     },
     "metadata": {},
     "output_type": "display_data"
    }
   ],
   "source": [
    "m2 <- glmer(Hare ~ Plantspecies  + (1|Replicate), family = poisson(), data = d)\n",
    "summary(m2)"
   ]
  },
  {
   "cell_type": "markdown",
   "metadata": {},
   "source": [
    "## Dune & Salt Marsh has more plant variety than Agri. grassland, but plant variety is not different b/w Dune & Salt Marsh"
   ]
  },
  {
   "cell_type": "code",
   "execution_count": 8,
   "metadata": {},
   "outputs": [
    {
     "name": "stderr",
     "output_type": "stream",
     "text": [
      "boundary (singular) fit: see ?isSingular\n"
     ]
    },
    {
     "data": {
      "text/plain": [
       "Generalized linear mixed model fit by maximum likelihood (Laplace\n",
       "  Approximation) [glmerMod]\n",
       " Family: poisson  ( log )\n",
       "Formula: Plantspecies ~ Treatment + (1 | Replicate)\n",
       "   Data: d\n",
       "\n",
       "     AIC      BIC   logLik deviance df.resid \n",
       "   233.8    242.1   -112.9    225.8       56 \n",
       "\n",
       "Scaled residuals: \n",
       "    Min      1Q  Median      3Q     Max \n",
       "-1.3000 -0.2511 -0.1000  0.3000  1.5000 \n",
       "\n",
       "Random effects:\n",
       " Groups    Name        Variance Std.Dev.\n",
       " Replicate (Intercept) 0        0       \n",
       "Number of obs: 60, groups:  Replicate, 4\n",
       "\n",
       "Fixed effects:\n",
       "            Estimate Std. Error z value Pr(>|z|)    \n",
       "(Intercept)   0.9933     0.1361   7.299 2.90e-13 ***\n",
       "TreatmentD    0.7024     0.1664   4.221 2.44e-05 ***\n",
       "TreatmentSM   0.8393     0.1628   5.154 2.55e-07 ***\n",
       "---\n",
       "Signif. codes:  0 ‘***’ 0.001 ‘**’ 0.01 ‘*’ 0.05 ‘.’ 0.1 ‘ ’ 1\n",
       "\n",
       "Correlation of Fixed Effects:\n",
       "            (Intr) TrtmnD\n",
       "TreatmentD  -0.818       \n",
       "TreatmentSM -0.836  0.683\n",
       "convergence code: 0\n",
       "boundary (singular) fit: see ?isSingular\n"
      ]
     },
     "metadata": {},
     "output_type": "display_data"
    }
   ],
   "source": [
    "m3a <- glmer(Plantspecies ~ Treatment + (1|Replicate), family = poisson(), data = d)\n",
    "summary(m3a)"
   ]
  },
  {
   "cell_type": "code",
   "execution_count": 9,
   "metadata": {},
   "outputs": [
    {
     "name": "stderr",
     "output_type": "stream",
     "text": [
      "boundary (singular) fit: see ?isSingular\n"
     ]
    },
    {
     "data": {
      "text/plain": [
       "Generalized linear mixed model fit by maximum likelihood (Laplace\n",
       "  Approximation) [glmerMod]\n",
       " Family: poisson  ( log )\n",
       "Formula: Plantspecies ~ Treatment_ordered + (1 | Replicate)\n",
       "   Data: d\n",
       "\n",
       "     AIC      BIC   logLik deviance df.resid \n",
       "   233.8    242.1   -112.9    225.8       56 \n",
       "\n",
       "Scaled residuals: \n",
       "    Min      1Q  Median      3Q     Max \n",
       "-1.3000 -0.2511 -0.1000  0.3000  1.5000 \n",
       "\n",
       "Random effects:\n",
       " Groups    Name        Variance Std.Dev.\n",
       " Replicate (Intercept) 0        0       \n",
       "Number of obs: 60, groups:  Replicate, 4\n",
       "\n",
       "Fixed effects:\n",
       "                    Estimate Std. Error z value Pr(>|z|)    \n",
       "(Intercept)          1.69562    0.09578  17.703  < 2e-16 ***\n",
       "Treatment_orderedSM  0.13697    0.13105   1.045    0.296    \n",
       "Treatment_orderedAG -0.70236    0.16641  -4.221 2.44e-05 ***\n",
       "---\n",
       "Signif. codes:  0 ‘***’ 0.001 ‘**’ 0.01 ‘*’ 0.05 ‘.’ 0.1 ‘ ’ 1\n",
       "\n",
       "Correlation of Fixed Effects:\n",
       "            (Intr) Trt_SM\n",
       "Trtmnt_rdSM -0.731       \n",
       "Trtmnt_rdAG -0.576  0.421\n",
       "convergence code: 0\n",
       "boundary (singular) fit: see ?isSingular\n"
      ]
     },
     "metadata": {},
     "output_type": "display_data"
    }
   ],
   "source": [
    "m3b <- glmer(Plantspecies ~ Treatment_ordered + (1|Replicate), family = poisson(), data = d)\n",
    "summary(m3b)"
   ]
  },
  {
   "cell_type": "markdown",
   "metadata": {},
   "source": [
    "## If in the same habitat, does variation in hare abundance associates with variation in plant variety? - Just in Dune, but not in Salt Marsh\n",
    "Analysis was not done for Agri. grassland habitat, because there's almost stable plant variety in this environment"
   ]
  },
  {
   "cell_type": "code",
   "execution_count": 10,
   "metadata": {},
   "outputs": [
    {
     "name": "stderr",
     "output_type": "stream",
     "text": [
      "boundary (singular) fit: see ?isSingular\n"
     ]
    },
    {
     "data": {
      "text/plain": [
       "Generalized linear mixed model fit by maximum likelihood (Laplace\n",
       "  Approximation) [glmerMod]\n",
       " Family: poisson  ( log )\n",
       "Formula: Hare ~ Plantspecies + (1 | Replicate)\n",
       "   Data: dune\n",
       "\n",
       "     AIC      BIC   logLik deviance df.resid \n",
       "    75.8     78.8    -34.9     69.8       17 \n",
       "\n",
       "Scaled residuals: \n",
       "    Min      1Q  Median      3Q     Max \n",
       "-1.7953 -0.9073 -0.4801  0.6367  3.4868 \n",
       "\n",
       "Random effects:\n",
       " Groups    Name        Variance  Std.Dev. \n",
       " Replicate (Intercept) 1.552e-15 3.939e-08\n",
       "Number of obs: 20, groups:  Replicate, 4\n",
       "\n",
       "Fixed effects:\n",
       "             Estimate Std. Error z value Pr(>|z|)    \n",
       "(Intercept)   -2.0625     0.8660  -2.382 0.017235 *  \n",
       "Plantspecies   0.4618     0.1386   3.332 0.000861 ***\n",
       "---\n",
       "Signif. codes:  0 ‘***’ 0.001 ‘**’ 0.01 ‘*’ 0.05 ‘.’ 0.1 ‘ ’ 1\n",
       "\n",
       "Correlation of Fixed Effects:\n",
       "            (Intr)\n",
       "Plantspecis -0.982\n",
       "convergence code: 0\n",
       "boundary (singular) fit: see ?isSingular\n"
      ]
     },
     "metadata": {},
     "output_type": "display_data"
    }
   ],
   "source": [
    "# Dune\n",
    "dune <- d[d$Treatment=='D',]\n",
    "\n",
    "m4a <- glmer(Hare ~ Plantspecies  + (1|Replicate), family = poisson(), data = dune)\n",
    "summary(m4a)"
   ]
  },
  {
   "cell_type": "code",
   "execution_count": 11,
   "metadata": {},
   "outputs": [
    {
     "data": {
      "text/plain": [
       "Generalized linear mixed model fit by maximum likelihood (Laplace\n",
       "  Approximation) [glmerMod]\n",
       " Family: poisson  ( log )\n",
       "Formula: Hare ~ Plantspecies + (1 | Replicate)\n",
       "   Data: sm\n",
       "\n",
       "     AIC      BIC   logLik deviance df.resid \n",
       "   132.2    135.2    -63.1    126.2       17 \n",
       "\n",
       "Scaled residuals: \n",
       "     Min       1Q   Median       3Q      Max \n",
       "-2.46069 -1.28697 -0.09819  0.90502  2.86634 \n",
       "\n",
       "Random effects:\n",
       " Groups    Name        Variance Std.Dev.\n",
       " Replicate (Intercept) 0.2514   0.5014  \n",
       "Number of obs: 20, groups:  Replicate, 4\n",
       "\n",
       "Fixed effects:\n",
       "             Estimate Std. Error z value Pr(>|z|)  \n",
       "(Intercept)   1.24118    0.52511   2.364   0.0181 *\n",
       "Plantspecies  0.06535    0.07006   0.933   0.3509  \n",
       "---\n",
       "Signif. codes:  0 ‘***’ 0.001 ‘**’ 0.01 ‘*’ 0.05 ‘.’ 0.1 ‘ ’ 1\n",
       "\n",
       "Correlation of Fixed Effects:\n",
       "            (Intr)\n",
       "Plantspecis -0.856"
      ]
     },
     "metadata": {},
     "output_type": "display_data"
    }
   ],
   "source": [
    "# Salt Marsh\n",
    "sm <- d[d$Treatment=='SM',]\n",
    "\n",
    "m4b <- glmer(Hare ~ Plantspecies  + (1|Replicate), family = poisson(), data = sm)\n",
    "summary(m4b)"
   ]
  },
  {
   "cell_type": "markdown",
   "metadata": {},
   "source": [
    "## But still, why there is difference in hare abundance b/w Dune & Salt Marsh? \n",
    "\n",
    "## Could be correlated to the rabbit abundance ~ Rabbit abundance is lower in Salt Marsh, where the Hare abundance is higher"
   ]
  },
  {
   "cell_type": "code",
   "execution_count": 12,
   "metadata": {},
   "outputs": [
    {
     "data": {
      "text/plain": [
       "Generalized linear mixed model fit by maximum likelihood (Laplace\n",
       "  Approximation) [glmerMod]\n",
       " Family: poisson  ( log )\n",
       "Formula: Rabbit ~ Treatment + (1 | Replicate)\n",
       "   Data: rbind(dune, sm)\n",
       "\n",
       "     AIC      BIC   logLik deviance df.resid \n",
       "   163.9    169.0    -79.0    157.9       37 \n",
       "\n",
       "Scaled residuals: \n",
       "    Min      1Q  Median      3Q     Max \n",
       "-1.8676 -0.9471 -0.4124  0.6469  5.8180 \n",
       "\n",
       "Random effects:\n",
       " Groups    Name        Variance Std.Dev.\n",
       " Replicate (Intercept) 0.09792  0.3129  \n",
       "Number of obs: 40, groups:  Replicate, 4\n",
       "\n",
       "Fixed effects:\n",
       "            Estimate Std. Error z value Pr(>|z|)    \n",
       "(Intercept)   0.9266     0.2123   4.365 1.27e-05 ***\n",
       "TreatmentSM  -1.1977     0.2837  -4.222 2.42e-05 ***\n",
       "---\n",
       "Signif. codes:  0 ‘***’ 0.001 ‘**’ 0.01 ‘*’ 0.05 ‘.’ 0.1 ‘ ’ 1\n",
       "\n",
       "Correlation of Fixed Effects:\n",
       "            (Intr)\n",
       "TreatmentSM -0.310"
      ]
     },
     "metadata": {},
     "output_type": "display_data"
    }
   ],
   "source": [
    "m5 <- glmer(Rabbit ~ Treatment + (1|Replicate), family = poisson(), data = rbind(dune, sm))\n",
    "summary(m5)"
   ]
  },
  {
   "cell_type": "markdown",
   "metadata": {},
   "source": [
    "## Rabbit abundance also associates with plant variety in Dune, but not in Salt Marsh.\n",
    "\n",
    "## In Dune, more rabbit is correlated with less plant species, while hare abundance follows the opposite correlation"
   ]
  },
  {
   "cell_type": "code",
   "execution_count": 13,
   "metadata": {},
   "outputs": [
    {
     "data": {
      "text/plain": [
       "Generalized linear mixed model fit by maximum likelihood (Laplace\n",
       "  Approximation) [glmerMod]\n",
       " Family: poisson  ( log )\n",
       "Formula: Rabbit ~ Plantspecies + (1 | Replicate)\n",
       "   Data: dune\n",
       "\n",
       "     AIC      BIC   logLik deviance df.resid \n",
       "   111.0    114.0    -52.5    105.0       17 \n",
       "\n",
       "Scaled residuals: \n",
       "    Min      1Q  Median      3Q     Max \n",
       "-1.9186 -1.3988 -0.1341  0.6775  4.8571 \n",
       "\n",
       "Random effects:\n",
       " Groups    Name        Variance Std.Dev.\n",
       " Replicate (Intercept) 0.1815   0.426   \n",
       "Number of obs: 20, groups:  Replicate, 4\n",
       "\n",
       "Fixed effects:\n",
       "             Estimate Std. Error z value Pr(>|z|)    \n",
       "(Intercept)    2.1479     0.6244   3.440 0.000581 ***\n",
       "Plantspecies  -0.2360     0.1116  -2.115 0.034415 *  \n",
       "---\n",
       "Signif. codes:  0 ‘***’ 0.001 ‘**’ 0.01 ‘*’ 0.05 ‘.’ 0.1 ‘ ’ 1\n",
       "\n",
       "Correlation of Fixed Effects:\n",
       "            (Intr)\n",
       "Plantspecis -0.910"
      ]
     },
     "metadata": {},
     "output_type": "display_data"
    }
   ],
   "source": [
    "# Dune\n",
    "m6a <- glmer(Rabbit ~ Plantspecies  + (1|Replicate), family = poisson(), data = dune)\n",
    "summary(m6a)"
   ]
  },
  {
   "cell_type": "code",
   "execution_count": 14,
   "metadata": {},
   "outputs": [
    {
     "name": "stderr",
     "output_type": "stream",
     "text": [
      "boundary (singular) fit: see ?isSingular\n"
     ]
    },
    {
     "data": {
      "text/plain": [
       "Generalized linear mixed model fit by maximum likelihood (Laplace\n",
       "  Approximation) [glmerMod]\n",
       " Family: poisson  ( log )\n",
       "Formula: Rabbit ~ Plantspecies + (1 | Replicate)\n",
       "   Data: sm\n",
       "\n",
       "     AIC      BIC   logLik deviance df.resid \n",
       "    50.8     53.8    -22.4     44.8       17 \n",
       "\n",
       "Scaled residuals: \n",
       "    Min      1Q  Median      3Q     Max \n",
       "-1.1810 -0.7859 -0.4089  0.6472  1.9303 \n",
       "\n",
       "Random effects:\n",
       " Groups    Name        Variance Std.Dev.\n",
       " Replicate (Intercept) 0        0       \n",
       "Number of obs: 20, groups:  Replicate, 4\n",
       "\n",
       "Fixed effects:\n",
       "             Estimate Std. Error z value Pr(>|z|)  \n",
       "(Intercept)    1.5239     0.9287   1.641   0.1008  \n",
       "Plantspecies  -0.2978     0.1626  -1.831   0.0671 .\n",
       "---\n",
       "Signif. codes:  0 ‘***’ 0.001 ‘**’ 0.01 ‘*’ 0.05 ‘.’ 0.1 ‘ ’ 1\n",
       "\n",
       "Correlation of Fixed Effects:\n",
       "            (Intr)\n",
       "Plantspecis -0.963\n",
       "convergence code: 0\n",
       "boundary (singular) fit: see ?isSingular\n"
      ]
     },
     "metadata": {},
     "output_type": "display_data"
    }
   ],
   "source": [
    "# Salt Marsh\n",
    "m6b <- glmer(Rabbit ~ Plantspecies  + (1|Replicate), family = poisson(), data = sm)\n",
    "summary(m6b)"
   ]
  }
 ],
 "metadata": {
  "kernelspec": {
   "display_name": "R",
   "language": "R",
   "name": "ir"
  },
  "language_info": {
   "codemirror_mode": "r",
   "file_extension": ".r",
   "mimetype": "text/x-r-source",
   "name": "R",
   "pygments_lexer": "r",
   "version": "3.5.1"
  }
 },
 "nbformat": 4,
 "nbformat_minor": 2
}
