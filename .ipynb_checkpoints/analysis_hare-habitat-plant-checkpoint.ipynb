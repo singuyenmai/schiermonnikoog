{
 "cells": [
  {
   "cell_type": "code",
   "execution_count": 1,
   "metadata": {},
   "outputs": [
    {
     "data": {
      "text/html": [
       "<table>\n",
       "<thead><tr><th scope=col>Treatment</th><th scope=col>Replicate</th><th scope=col>Measurement</th><th scope=col>Hare</th><th scope=col>Rabbit</th><th scope=col>Plantspecies</th><th scope=col>Who</th><th scope=col>Day</th></tr></thead>\n",
       "<tbody>\n",
       "\t<tr><td>Dune        </td><td>1           </td><td>1           </td><td>2           </td><td>3           </td><td>6           </td><td>Julia/Sharmi</td><td>1           </td></tr>\n",
       "\t<tr><td>Dune        </td><td>1           </td><td>2           </td><td>0           </td><td>0           </td><td>5           </td><td>Julia/Sharmi</td><td>1           </td></tr>\n",
       "\t<tr><td>Dune        </td><td>1           </td><td>3           </td><td>6           </td><td>2           </td><td>7           </td><td>Julia/Sharmi</td><td>1           </td></tr>\n",
       "\t<tr><td>Dune        </td><td>1           </td><td>4           </td><td>0           </td><td>0           </td><td>5           </td><td>Nguyen      </td><td>1           </td></tr>\n",
       "\t<tr><td>Dune        </td><td>1           </td><td>5           </td><td>3           </td><td>2           </td><td>5           </td><td>Nguyen      </td><td>1           </td></tr>\n",
       "\t<tr><td>Dune        </td><td>2           </td><td>1           </td><td>0           </td><td>0           </td><td>7           </td><td>Julia/Sharmi</td><td>1           </td></tr>\n",
       "</tbody>\n",
       "</table>\n"
      ],
      "text/latex": [
       "\\begin{tabular}{r|llllllll}\n",
       " Treatment & Replicate & Measurement & Hare & Rabbit & Plantspecies & Who & Day\\\\\n",
       "\\hline\n",
       "\t Dune         & 1            & 1            & 2            & 3            & 6            & Julia/Sharmi & 1           \\\\\n",
       "\t Dune         & 1            & 2            & 0            & 0            & 5            & Julia/Sharmi & 1           \\\\\n",
       "\t Dune         & 1            & 3            & 6            & 2            & 7            & Julia/Sharmi & 1           \\\\\n",
       "\t Dune         & 1            & 4            & 0            & 0            & 5            & Nguyen       & 1           \\\\\n",
       "\t Dune         & 1            & 5            & 3            & 2            & 5            & Nguyen       & 1           \\\\\n",
       "\t Dune         & 2            & 1            & 0            & 0            & 7            & Julia/Sharmi & 1           \\\\\n",
       "\\end{tabular}\n"
      ],
      "text/markdown": [
       "\n",
       "| Treatment | Replicate | Measurement | Hare | Rabbit | Plantspecies | Who | Day |\n",
       "|---|---|---|---|---|---|---|---|\n",
       "| Dune         | 1            | 1            | 2            | 3            | 6            | Julia/Sharmi | 1            |\n",
       "| Dune         | 1            | 2            | 0            | 0            | 5            | Julia/Sharmi | 1            |\n",
       "| Dune         | 1            | 3            | 6            | 2            | 7            | Julia/Sharmi | 1            |\n",
       "| Dune         | 1            | 4            | 0            | 0            | 5            | Nguyen       | 1            |\n",
       "| Dune         | 1            | 5            | 3            | 2            | 5            | Nguyen       | 1            |\n",
       "| Dune         | 2            | 1            | 0            | 0            | 7            | Julia/Sharmi | 1            |\n",
       "\n"
      ],
      "text/plain": [
       "  Treatment Replicate Measurement Hare Rabbit Plantspecies Who          Day\n",
       "1 Dune      1         1           2    3      6            Julia/Sharmi 1  \n",
       "2 Dune      1         2           0    0      5            Julia/Sharmi 1  \n",
       "3 Dune      1         3           6    2      7            Julia/Sharmi 1  \n",
       "4 Dune      1         4           0    0      5            Nguyen       1  \n",
       "5 Dune      1         5           3    2      5            Nguyen       1  \n",
       "6 Dune      2         1           0    0      7            Julia/Sharmi 1  "
      ]
     },
     "metadata": {},
     "output_type": "display_data"
    }
   ],
   "source": [
    "d <- read.csv(\"hares.csv\")\n",
    "head(d)"
   ]
  },
  {
   "cell_type": "code",
   "execution_count": 3,
   "metadata": {},
   "outputs": [
    {
     "name": "stdout",
     "output_type": "stream",
     "text": [
      "'data.frame':\t60 obs. of  8 variables:\n",
      " $ Treatment   : Factor w/ 3 levels \"Agric. grassland\",..: 2 2 2 2 2 2 2 2 2 2 ...\n",
      " $ Replicate   : Factor w/ 4 levels \"1\",\"2\",\"3\",\"4\": 1 1 1 1 1 2 2 2 2 2 ...\n",
      " $ Measurement : Factor w/ 5 levels \"1\",\"2\",\"3\",\"4\",..: 1 2 3 4 5 1 2 3 4 5 ...\n",
      " $ Hare        : int  2 0 6 0 3 0 2 0 0 0 ...\n",
      " $ Rabbit      : int  3 0 2 0 2 0 1 0 2 5 ...\n",
      " $ Plantspecies: int  6 5 7 5 5 7 5 3 4 5 ...\n",
      " $ Who         : Factor w/ 5 levels \"Julia\",\"Julia/Nguyen\",..: 3 3 3 4 4 3 3 4 4 4 ...\n",
      " $ Day         : Factor w/ 2 levels \"1\",\"2\": 1 1 1 1 1 1 1 1 1 1 ...\n"
     ]
    }
   ],
   "source": [
    "d$Treatment <- factor(d$Treatment)\n",
    "d$Measurement <- factor(d$Measurement)\n",
    "d$Replicate <- factor(d$Replicate)\n",
    "d$Day <- factor(d$Day)\n",
    "str(d)"
   ]
  },
  {
   "cell_type": "markdown",
   "metadata": {},
   "source": [
    "## Check data for hare droppings\n",
    "\n",
    "Non-normal count data --> Poisson distribution"
   ]
  }
 ],
 "metadata": {
  "kernelspec": {
   "display_name": "R",
   "language": "R",
   "name": "ir"
  },
  "language_info": {
   "codemirror_mode": "r",
   "file_extension": ".r",
   "mimetype": "text/x-r-source",
   "name": "R",
   "pygments_lexer": "r",
   "version": "3.5.1"
  }
 },
 "nbformat": 4,
 "nbformat_minor": 2
}
